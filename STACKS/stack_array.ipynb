{
 "cells": [
  {
   "cell_type": "code",
   "execution_count": 23,
   "id": "missing-beast",
   "metadata": {},
   "outputs": [],
   "source": [
    "class Stack:\n",
    "    def __init__(self):\n",
    "        self.size = 20\n",
    "        self.stack = []\n",
    "    def push(self,ele):\n",
    "        self.stack.append(ele)\n",
    "    def pop(self):\n",
    "        return self.stack.pop()\n",
    "    def peek(self):\n",
    "        return self.stack[-1]     "
   ]
  },
  {
   "cell_type": "code",
   "execution_count": 24,
   "id": "distinct-center",
   "metadata": {},
   "outputs": [],
   "source": [
    "z = Stack()\n",
    "z.push(5)\n",
    "z.push(10)\n",
    "z.push(20)"
   ]
  },
  {
   "cell_type": "code",
   "execution_count": 25,
   "id": "described-imperial",
   "metadata": {},
   "outputs": [
    {
     "data": {
      "text/plain": [
       "[5, 10, 20]"
      ]
     },
     "execution_count": 25,
     "metadata": {},
     "output_type": "execute_result"
    }
   ],
   "source": [
    "z.stack"
   ]
  },
  {
   "cell_type": "code",
   "execution_count": 26,
   "id": "developmental-holder",
   "metadata": {},
   "outputs": [
    {
     "data": {
      "text/plain": [
       "20"
      ]
     },
     "execution_count": 26,
     "metadata": {},
     "output_type": "execute_result"
    }
   ],
   "source": [
    "z.peek()"
   ]
  },
  {
   "cell_type": "code",
   "execution_count": 27,
   "id": "surface-holocaust",
   "metadata": {},
   "outputs": [
    {
     "data": {
      "text/plain": [
       "20"
      ]
     },
     "execution_count": 27,
     "metadata": {},
     "output_type": "execute_result"
    }
   ],
   "source": [
    "z.pop()"
   ]
  },
  {
   "cell_type": "code",
   "execution_count": null,
   "id": "proper-spyware",
   "metadata": {},
   "outputs": [],
   "source": []
  }
 ],
 "metadata": {
  "kernelspec": {
   "display_name": "Python 3",
   "language": "python",
   "name": "python3"
  },
  "language_info": {
   "codemirror_mode": {
    "name": "ipython",
    "version": 3
   },
   "file_extension": ".py",
   "mimetype": "text/x-python",
   "name": "python",
   "nbconvert_exporter": "python",
   "pygments_lexer": "ipython3",
   "version": "3.9.2"
  }
 },
 "nbformat": 4,
 "nbformat_minor": 5
}
